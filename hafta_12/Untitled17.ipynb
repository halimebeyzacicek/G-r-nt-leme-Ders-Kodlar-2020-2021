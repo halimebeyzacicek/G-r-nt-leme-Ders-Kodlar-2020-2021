{
 "cells": [
  {
   "cell_type": "code",
   "execution_count": 1,
   "metadata": {},
   "outputs": [],
   "source": [
    "import numpy as np"
   ]
  },
  {
   "cell_type": "code",
   "execution_count": 2,
   "metadata": {},
   "outputs": [],
   "source": [
    "class Perceptron(object):\n",
    "    \"\"\"Implements a perceptron network\"\"\"\n",
    "    def __init__(self,input_size,lr=1,epochs=10):\n",
    "        self.W=np.zeros(input_size+1)\n",
    "        self.epochs=epochs\n",
    "        self.lr=lr\n",
    "    #def __init__(self,input_size):\n",
    "    #    self.W=np.zeros(input_size+1)\n",
    "    def activation_fn(self,x):\n",
    "        return 1 if x >= 0 else 0\n",
    "    def predict(self,x):\n",
    "        x=np.insert(x,0,1)\n",
    "        z=self.W.T.dot(x)\n",
    "        a=self.activation_fn(z)\n",
    "        return a\n",
    "    def fit(self,X,d):\n",
    "        for _ in range(self.epochs):\n",
    "            for i in range(d.shape[0]):\n",
    "                y=self.predict(X[i])\n",
    "                e=d[i]-y\n",
    "                self.W = self.W + self.lr * e * np.insert(X[i],0,1)"
   ]
  },
  {
   "cell_type": "code",
   "execution_count": 3,
   "metadata": {},
   "outputs": [
    {
     "data": {
      "text/plain": [
       "array([-3.,  2.,  1.])"
      ]
     },
     "execution_count": 3,
     "metadata": {},
     "output_type": "execute_result"
    }
   ],
   "source": [
    "X = np.array([\n",
    "    [0,0],\n",
    "    [0,1],\n",
    "    [1,0],\n",
    "    [1,1]\n",
    "])\n",
    "d = np.array([0,0,0,1])#AND\n",
    "perceptron = Perceptron(input_size=2)\n",
    "perceptron.fit(X,d)\n",
    "perceptron.W"
   ]
  },
  {
   "cell_type": "code",
   "execution_count": 4,
   "metadata": {},
   "outputs": [
    {
     "name": "stdout",
     "output_type": "stream",
     "text": [
      "0\n",
      "0\n",
      "0\n",
      "1\n"
     ]
    }
   ],
   "source": [
    "print(perceptron.predict(np.asarray([0,0])))\n",
    "print(perceptron.predict(np.asarray([0,1])))\n",
    "print(perceptron.predict(np.asarray([1,0])))\n",
    "print(perceptron.predict(np.asarray([1,1])))"
   ]
  },
  {
   "cell_type": "markdown",
   "metadata": {},
   "source": [
    "# ÖDEV"
   ]
  },
  {
   "cell_type": "markdown",
   "metadata": {},
   "source": [
    "## Soru-1(Perceptron class tanımınında var olan fonksiyonları kısaca tanıtınız.)\n",
    "*  __init__ fonksiyonu = Sınıf başlatılırken daima yürütülen fonksiyondur. Input'da kaç tane veri girildiğini, Weight(W) vektörünü oluşturabilmek için paramatre olarak alıyoruz. Ayrıca learing_rate ve kaç kere güncelleme yapılacığı(epochs)'nı parametre olarak alıyoruz. \"lr\" ve \"epochs\" değişkenlere atanıyor. \n",
    "* activation_fn fonksiyonu = Gelen x parametresi 0'dan büyük veya eşitse 1'i, aksi takdirde 0'ı döndürden fonksiyon. \n",
    "* predict fonksiyonu = Önce bias'ı Input vektörüne ekliyoruz. Sonra W transpose ile parametre olarak gelen x'i çarpıyoruz. Bu sayede elimizde artık tek bir sayı var. Bu sayıyı da z'ye atıyoruz. Daha sonra z'yi aktivasyon fonksiyonuna gönderiyoruz. Bu sayede artık elimizde input'a karşılık bir output olmuş oluyor(0 veya 1).\n",
    "* fit fonksiyonu = W'yi güncelleme işlemini burada yapıyoruz. Önce epochs kadar dön diyoruz. Bu döngü içinde kaç output varsa o kadar dön diyoruz. Bu iç içe döngü içerisinde error(e)'u bularak ardından bu error değişkeni kullanarak yeni W'yi oluşturmuş oluyoruz."
   ]
  },
  {
   "cell_type": "markdown",
   "metadata": {},
   "source": [
    "## Soru-2(XOR için verileri değiştirip çalışmasınızı gözlemleyiniz.)\n",
    "Görüleceği gibi Perceptron XOR için doğru çalışmıyor."
   ]
  },
  {
   "cell_type": "code",
   "execution_count": 5,
   "metadata": {},
   "outputs": [
    {
     "data": {
      "text/plain": [
       "array([ 0., -1.,  0.])"
      ]
     },
     "execution_count": 5,
     "metadata": {},
     "output_type": "execute_result"
    }
   ],
   "source": [
    "X = np.array([\n",
    "    [0,0],\n",
    "    [0,1],\n",
    "    [1,0],\n",
    "    [1,1]\n",
    "])\n",
    "d = np.array([0,1,1,0])#XOR\n",
    "perceptron = Perceptron(input_size=2)\n",
    "perceptron.fit(X,d)\n",
    "perceptron.W"
   ]
  },
  {
   "cell_type": "code",
   "execution_count": 6,
   "metadata": {},
   "outputs": [
    {
     "name": "stdout",
     "output_type": "stream",
     "text": [
      "1\n",
      "1\n",
      "0\n",
      "0\n"
     ]
    }
   ],
   "source": [
    "print(perceptron.predict(np.asarray([0,0])))\n",
    "print(perceptron.predict(np.asarray([0,1])))\n",
    "print(perceptron.predict(np.asarray([1,0])))\n",
    "print(perceptron.predict(np.asarray([1,1])))"
   ]
  },
  {
   "cell_type": "markdown",
   "metadata": {},
   "source": [
    "## Soru-3(Bu class ile dersimize kayıtlı 40 öğrenci için imza tanıması yapılırsa X ve d değerlerini ne olur, predict fonksiyonu nasıl kullanılır açıklayınız)\n",
    "**->** m=yükseklik ve n=genişlik olsun. m ve n değerlerinin 100 olduğunu düşünelim. O zaman bir kişinin imzasını 100x100x3 olarak düşünebiliriz. Bu imzayı image_1.reshape(mxnx3,1) ile sütun vektör olarak gösterebiliriz. 40 imza için ise (100x100x3,40)'lık matrix bizim verimiz olacaktır. Bu matrisin her bir satırında bir imza olacaktır.\n",
    "\n",
    "**->** X'i şu şekilde gösterilebilir.(40 eleman var.)\n",
    "````python\n",
    "X =([\n",
    "    [100,100,3],\n",
    "    [100,100,3],\n",
    "    [100,100,3],\n",
    "    [100,100,3],\n",
    "    [100,100,3],\n",
    "    ...\n",
    "    ...\n",
    "])\n",
    "````\n",
    "\n",
    "**->** d'yi şu şekilde gösterilebilir.(40 eleman var çünkü 40 öğrenci var.)\n",
    "````python\n",
    "d=[Ayşe, Ahmet, Banu, Barış......]\n",
    "````\n",
    "\n",
    "**->** Perceptron yalnızca binary değerler alıp üretir. Yani Perceptron kullanarak ikili sınıflandırma yapabiliriz. Perceptron'un 40 farklı değere sahip bir çıktıyı tanıma yeteneği yoktur. Bu problemi perceptron ile çözemeyiz."
   ]
  },
  {
   "cell_type": "markdown",
   "metadata": {},
   "source": [
    "## Soru-4(Bu modelin hatası nasıl elde edilir, kendi çözümünüzü/ yorumunuzu yazınız.)\n",
    "Bu model ile doğrusal olarak ayrılabilir(linearly separable) **olmayan** bir problemi çözmeye çalıştığımızda hata elde etmiş oluruz. Ağırlık toplam vektörüne baktığımız zaman bir doğrunun denklemine benzediğini görürüz. Dolayısıyla bir çizgi oluşturuyoruz ve bu çizgi iki sınıf oluşturmuş oluyor. Yani sadece doğrusal olarak ayrılabilir problemler bu yöntem ile çözülebilir. \n",
    "\n",
    "Bence çözüm olarak bir çizgi kullanmak yerine birden fazla çizgi kullanabiliriz. Bu sayede iki sınıf yerine ayrı ayrı bir çok sınıf oluşturabiliriz. Sonra örneğin out olarak 1 olan sınıfları 1.sınıf ve 0 olan sınıfları 2.sınıf olarak gösterebiliriz. Yani temelde bir çok sınıfımız olacak ama biz out'lara göre yine bunları iki sınıf şeklinde göstereceğiz. Mesela 2 çizgi kullanmış olalım ve 3 sınıf oluşmuş olsun. 2 tane out olarak 0 olan sınıf arasında out olarak 1 olan sınıf olmuş olsun. 2 çizgi ile out 1 olanları diğerlerinden ayırmış oluruz."
   ]
  }
 ],
 "metadata": {
  "kernelspec": {
   "display_name": "Python 3",
   "language": "python",
   "name": "python3"
  },
  "language_info": {
   "codemirror_mode": {
    "name": "ipython",
    "version": 3
   },
   "file_extension": ".py",
   "mimetype": "text/x-python",
   "name": "python",
   "nbconvert_exporter": "python",
   "pygments_lexer": "ipython3",
   "version": "3.8.3"
  }
 },
 "nbformat": 4,
 "nbformat_minor": 4
}
